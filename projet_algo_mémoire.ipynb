{
  "nbformat": 4,
  "nbformat_minor": 0,
  "metadata": {
    "colab": {
      "name": "projet algo mémoire.ipynb",
      "provenance": [],
      "collapsed_sections": [],
      "authorship_tag": "ABX9TyMi1mRVECZcc4YcDTxZ45fc",
      "include_colab_link": true
    },
    "kernelspec": {
      "name": "python3",
      "display_name": "Python 3"
    },
    "language_info": {
      "name": "python"
    }
  },
  "cells": [
    {
      "cell_type": "markdown",
      "metadata": {
        "id": "view-in-github",
        "colab_type": "text"
      },
      "source": [
        "<a href=\"https://colab.research.google.com/github/KangooCode/TweetsScraper/blob/main/projet_algo_m%C3%A9moire.ipynb\" target=\"_parent\"><img src=\"https://colab.research.google.com/assets/colab-badge.svg\" alt=\"Open In Colab\"/></a>"
      ]
    },
    {
      "cell_type": "code",
      "source": [
        "!apt-get install python3.8"
      ],
      "metadata": {
        "colab": {
          "base_uri": "https://localhost:8080/"
        },
        "id": "YZdQkWVcpp7t",
        "outputId": "d49aa0e3-c9cb-46aa-d3c6-bc504af3ec80"
      },
      "execution_count": 16,
      "outputs": [
        {
          "output_type": "stream",
          "name": "stdout",
          "text": [
            "Reading package lists... Done\n",
            "Building dependency tree       \n",
            "Reading state information... Done\n",
            "The following additional packages will be installed:\n",
            "  libpython3.8-minimal libpython3.8-stdlib python3.8-minimal\n",
            "Suggested packages:\n",
            "  python3.8-venv binfmt-support\n",
            "The following NEW packages will be installed:\n",
            "  libpython3.8-minimal libpython3.8-stdlib python3.8 python3.8-minimal\n",
            "0 upgraded, 4 newly installed, 0 to remove and 39 not upgraded.\n",
            "Need to get 4,676 kB of archives.\n",
            "After this operation, 18.5 MB of additional disk space will be used.\n",
            "Get:1 http://ppa.launchpad.net/deadsnakes/ppa/ubuntu bionic/main amd64 libpython3.8-minimal amd64 3.8.13-1+bionic1 [762 kB]\n",
            "Get:2 http://ppa.launchpad.net/deadsnakes/ppa/ubuntu bionic/main amd64 python3.8-minimal amd64 3.8.13-1+bionic1 [1,824 kB]\n",
            "Get:3 http://ppa.launchpad.net/deadsnakes/ppa/ubuntu bionic/main amd64 libpython3.8-stdlib amd64 3.8.13-1+bionic1 [1,656 kB]\n",
            "Get:4 http://ppa.launchpad.net/deadsnakes/ppa/ubuntu bionic/main amd64 python3.8 amd64 3.8.13-1+bionic1 [434 kB]\n",
            "Fetched 4,676 kB in 3s (1,546 kB/s)\n",
            "Selecting previously unselected package libpython3.8-minimal:amd64.\n",
            "(Reading database ... 155455 files and directories currently installed.)\n",
            "Preparing to unpack .../libpython3.8-minimal_3.8.13-1+bionic1_amd64.deb ...\n",
            "Unpacking libpython3.8-minimal:amd64 (3.8.13-1+bionic1) ...\n",
            "Selecting previously unselected package python3.8-minimal.\n",
            "Preparing to unpack .../python3.8-minimal_3.8.13-1+bionic1_amd64.deb ...\n",
            "Unpacking python3.8-minimal (3.8.13-1+bionic1) ...\n",
            "Selecting previously unselected package libpython3.8-stdlib:amd64.\n",
            "Preparing to unpack .../libpython3.8-stdlib_3.8.13-1+bionic1_amd64.deb ...\n",
            "Unpacking libpython3.8-stdlib:amd64 (3.8.13-1+bionic1) ...\n",
            "Selecting previously unselected package python3.8.\n",
            "Preparing to unpack .../python3.8_3.8.13-1+bionic1_amd64.deb ...\n",
            "Unpacking python3.8 (3.8.13-1+bionic1) ...\n",
            "Setting up libpython3.8-minimal:amd64 (3.8.13-1+bionic1) ...\n",
            "Setting up python3.8-minimal (3.8.13-1+bionic1) ...\n",
            "Setting up libpython3.8-stdlib:amd64 (3.8.13-1+bionic1) ...\n",
            "Setting up python3.8 (3.8.13-1+bionic1) ...\n",
            "Processing triggers for mime-support (3.60ubuntu1) ...\n",
            "Processing triggers for man-db (2.8.3-2ubuntu0.1) ...\n"
          ]
        }
      ]
    },
    {
      "cell_type": "code",
      "source": [
        "!pip3 install snscrape\n",
        "!pip3 install pandas"
      ],
      "metadata": {
        "colab": {
          "base_uri": "https://localhost:8080/"
        },
        "id": "5szdatANmnn7",
        "outputId": "0400cca0-dac7-4c4e-c5ed-bee58c62d886"
      },
      "execution_count": 17,
      "outputs": [
        {
          "output_type": "stream",
          "name": "stdout",
          "text": [
            "Requirement already satisfied: snscrape in /usr/local/lib/python3.7/dist-packages (0.3.4)\n",
            "Requirement already satisfied: lxml in /usr/local/lib/python3.7/dist-packages (from snscrape) (4.2.6)\n",
            "Requirement already satisfied: beautifulsoup4 in /usr/local/lib/python3.7/dist-packages (from snscrape) (4.6.3)\n",
            "Requirement already satisfied: requests[socks] in /usr/local/lib/python3.7/dist-packages (from snscrape) (2.23.0)\n",
            "Requirement already satisfied: idna<3,>=2.5 in /usr/local/lib/python3.7/dist-packages (from requests[socks]->snscrape) (2.10)\n",
            "Requirement already satisfied: chardet<4,>=3.0.2 in /usr/local/lib/python3.7/dist-packages (from requests[socks]->snscrape) (3.0.4)\n",
            "Requirement already satisfied: certifi>=2017.4.17 in /usr/local/lib/python3.7/dist-packages (from requests[socks]->snscrape) (2021.10.8)\n",
            "Requirement already satisfied: urllib3!=1.25.0,!=1.25.1,<1.26,>=1.21.1 in /usr/local/lib/python3.7/dist-packages (from requests[socks]->snscrape) (1.24.3)\n",
            "Requirement already satisfied: PySocks!=1.5.7,>=1.5.6 in /usr/local/lib/python3.7/dist-packages (from requests[socks]->snscrape) (1.7.1)\n",
            "Requirement already satisfied: pandas in /usr/local/lib/python3.7/dist-packages (1.3.5)\n",
            "Requirement already satisfied: pytz>=2017.3 in /usr/local/lib/python3.7/dist-packages (from pandas) (2018.9)\n",
            "Requirement already satisfied: python-dateutil>=2.7.3 in /usr/local/lib/python3.7/dist-packages (from pandas) (2.8.2)\n",
            "Requirement already satisfied: numpy>=1.17.3 in /usr/local/lib/python3.7/dist-packages (from pandas) (1.21.5)\n",
            "Requirement already satisfied: six>=1.5 in /usr/local/lib/python3.7/dist-packages (from python-dateutil>=2.7.3->pandas) (1.15.0)\n"
          ]
        }
      ]
    },
    {
      "cell_type": "code",
      "execution_count": 34,
      "metadata": {
        "id": "udqyLeHvFkAt",
        "colab": {
          "base_uri": "https://localhost:8080/"
        },
        "outputId": "c767146d-5651-4ec9-8add-8b8c739f359e"
      },
      "outputs": [
        {
          "output_type": "stream",
          "name": "stdout",
          "text": [
            "                         Date         Username  \\\n",
            "0   2022-04-11 20:03:32+00:00        Lynx_2003   \n",
            "1   2022-04-05 19:14:33+00:00         vicemage   \n",
            "2   2022-03-31 00:02:29+00:00  EXPOSECORRUPT11   \n",
            "3   2022-03-30 23:58:11+00:00    JordynDoodles   \n",
            "4   2022-03-30 22:12:38+00:00        B21938838   \n",
            "..                        ...              ...   \n",
            "195 2021-01-06 05:56:36+00:00    the_comidenan   \n",
            "196 2021-01-06 05:31:09+00:00   queernthensome   \n",
            "197 2021-01-06 03:46:27+00:00    ClayVengeance   \n",
            "198 2021-01-06 03:27:36+00:00         CHlLLDAD   \n",
            "199 2021-01-06 03:23:04+00:00  Benjamn17127812   \n",
            "\n",
            "                                               Content  \n",
            "0    @nekokwitty Wtf is wrong with this person….min...  \n",
            "1    @mny_mrk @Breaking911 Friendly reminder:\\n\\nSh...  \n",
            "2    @8BrianVogel4 @AngryFleas @account_walt @Femme...  \n",
            "3    @HKid156 there is a big difference between som...  \n",
            "4    @JackPosobiec Hunter learn Child sex porn from...  \n",
            "..                                                 ...  \n",
            "195  @Autumn_Constant Well Carson admitted to excha...  \n",
            "196  @klindamisin1 @miniborb He used his fame to so...  \n",
            "197  @shay_fales @lauraisconfused @TapLHarV @Slimec...  \n",
            "198  @DisgustingKale @charmance360 @goonkler @Cuzhe...  \n",
            "199  @NOR_Liv_Ros @voodoosev @GameCreepr @Krinios i...  \n",
            "\n",
            "[200 rows x 3 columns]\n"
          ]
        }
      ],
      "source": [
        "#Scraper de tweets\n",
        "\n",
        "from snscrape.modules import twitter as sntwitter\n",
        "import pandas as pd\n",
        "\n",
        "query = \"porn sex nude child\"\n",
        "tweets = []\n",
        "limit = 200\n",
        "\n",
        "for tweet in sntwitter.TwitterSearchScraper(query).get_items():\n",
        "\n",
        "  if len(tweets) == limit:\n",
        "    break\n",
        "  else:\n",
        "    tweets.append([tweet.date, tweet.username, tweet.content])\n",
        "\n",
        "df = pd.DataFrame(tweets, columns=['Date', 'Username', 'Content'])\n",
        "\n",
        "print(df)\n",
        "\n",
        "df.to_csv('/content/sample_data/test.csv')"
      ]
    }
  ]
}