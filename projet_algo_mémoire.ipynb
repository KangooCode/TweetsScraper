{
  "nbformat": 4,
  "nbformat_minor": 0,
  "metadata": {
    "colab": {
      "name": "projet algo mémoire.ipynb",
      "provenance": [],
      "collapsed_sections": [],
      "include_colab_link": true
    },
    "kernelspec": {
      "name": "python3",
      "display_name": "Python 3"
    },
    "language_info": {
      "name": "python"
    }
  },
  "cells": [
    {
      "cell_type": "markdown",
      "metadata": {
        "id": "view-in-github",
        "colab_type": "text"
      },
      "source": [
        "<a href=\"https://colab.research.google.com/github/KangooCode/TweetsScraper/blob/main/projet_algo_m%C3%A9moire.ipynb\" target=\"_parent\"><img src=\"https://colab.research.google.com/assets/colab-badge.svg\" alt=\"Open In Colab\"/></a>"
      ]
    },
    {
      "cell_type": "code",
      "source": [
        "!apt-get -q install python3.8"
      ],
      "metadata": {
        "colab": {
          "base_uri": "https://localhost:8080/"
        },
        "id": "YZdQkWVcpp7t",
        "outputId": "9bf89d2f-377a-442c-f9a5-37cbc5d7989c"
      },
      "execution_count": 1,
      "outputs": [
        {
          "output_type": "stream",
          "name": "stdout",
          "text": [
            "Reading package lists...\n",
            "Building dependency tree...\n",
            "Reading state information...\n",
            "The following packages were automatically installed and are no longer required:\n",
            "  libnvidia-common-460 nsight-compute-2020.2.0\n",
            "Use 'apt autoremove' to remove them.\n",
            "The following additional packages will be installed:\n",
            "  libpython3.8-minimal libpython3.8-stdlib python3.8-minimal\n",
            "Suggested packages:\n",
            "  python3.8-venv binfmt-support\n",
            "The following NEW packages will be installed:\n",
            "  libpython3.8-minimal libpython3.8-stdlib python3.8 python3.8-minimal\n",
            "0 upgraded, 4 newly installed, 0 to remove and 42 not upgraded.\n",
            "Need to get 4,691 kB of archives.\n",
            "After this operation, 18.5 MB of additional disk space will be used.\n",
            "Get:1 http://ppa.launchpad.net/deadsnakes/ppa/ubuntu bionic/main amd64 libpython3.8-minimal amd64 3.8.13-1+bionic2 [762 kB]\n",
            "Get:2 http://ppa.launchpad.net/deadsnakes/ppa/ubuntu bionic/main amd64 python3.8-minimal amd64 3.8.13-1+bionic2 [1,837 kB]\n",
            "Get:3 http://ppa.launchpad.net/deadsnakes/ppa/ubuntu bionic/main amd64 libpython3.8-stdlib amd64 3.8.13-1+bionic2 [1,657 kB]\n",
            "Get:4 http://ppa.launchpad.net/deadsnakes/ppa/ubuntu bionic/main amd64 python3.8 amd64 3.8.13-1+bionic2 [434 kB]\n",
            "Fetched 4,691 kB in 4s (1,050 kB/s)\n",
            "Selecting previously unselected package libpython3.8-minimal:amd64.\n",
            "(Reading database ... 155203 files and directories currently installed.)\n",
            "Preparing to unpack .../libpython3.8-minimal_3.8.13-1+bionic2_amd64.deb ...\n",
            "Unpacking libpython3.8-minimal:amd64 (3.8.13-1+bionic2) ...\n",
            "Selecting previously unselected package python3.8-minimal.\n",
            "Preparing to unpack .../python3.8-minimal_3.8.13-1+bionic2_amd64.deb ...\n",
            "Unpacking python3.8-minimal (3.8.13-1+bionic2) ...\n",
            "Selecting previously unselected package libpython3.8-stdlib:amd64.\n",
            "Preparing to unpack .../libpython3.8-stdlib_3.8.13-1+bionic2_amd64.deb ...\n",
            "Unpacking libpython3.8-stdlib:amd64 (3.8.13-1+bionic2) ...\n",
            "Selecting previously unselected package python3.8.\n",
            "Preparing to unpack .../python3.8_3.8.13-1+bionic2_amd64.deb ...\n",
            "Unpacking python3.8 (3.8.13-1+bionic2) ...\n",
            "Setting up libpython3.8-minimal:amd64 (3.8.13-1+bionic2) ...\n",
            "Setting up python3.8-minimal (3.8.13-1+bionic2) ...\n",
            "Setting up libpython3.8-stdlib:amd64 (3.8.13-1+bionic2) ...\n",
            "Setting up python3.8 (3.8.13-1+bionic2) ...\n",
            "Processing triggers for mime-support (3.60ubuntu1) ...\n",
            "Processing triggers for man-db (2.8.3-2ubuntu0.1) ...\n"
          ]
        }
      ]
    },
    {
      "cell_type": "code",
      "source": [
        "!pip3 install -q snscrape\n",
        "!pip3 install -q pandas"
      ],
      "metadata": {
        "id": "5szdatANmnn7"
      },
      "execution_count": 3,
      "outputs": []
    },
    {
      "cell_type": "code",
      "execution_count": 31,
      "metadata": {
        "id": "udqyLeHvFkAt"
      },
      "outputs": [],
      "source": [
        "#Scraper de tweets\n",
        "\n",
        "from snscrape.modules import twitter as sntwitter\n",
        "import pandas as pd\n",
        "\n",
        "query = \"hot\"\n",
        "tweets = []\n",
        "limit = 10000\n",
        "\n",
        "for tweet in sntwitter.TwitterSearchScraper(query).get_items():\n",
        "\n",
        "  if len(tweets) == limit:\n",
        "    break\n",
        "  else:\n",
        "    tweets.append([tweet.date, tweet.username, tweet.content])\n",
        "\n",
        "df = pd.DataFrame(tweets, columns=['Date', 'Username', 'Content'])"
      ]
    },
    {
      "cell_type": "code",
      "source": [
        "#Algo modération\n",
        "\n",
        "import pandas as pd\n",
        "import numpy as np\n",
        "\n",
        "#Search_keywords = df.loc[df['Content'].str.contains(\"sex|rape|sexual|sexy|hot\", case=False)]\n",
        "\n",
        "df.loc[(df['Content'] == 'sex')|(df['Content'] == 'rape')|(df['Content'] == 'sexual')|(df['Content'] == 'fuck'),'Possibly_sensitive'] = 'True'\n",
        "df.loc[(df['Content'] != 'sex')&(df['Content'] != 'rape')&(df['Content'] != 'sexual')&(df['Content'] != 'fuck'),'Possibly_sensitive'] = 'False'\n",
        "\n",
        "print(df)\n",
        "\n",
        "#Filtre sur les contenus considérés comme sensibles\n",
        "filter_df = df[df.Possibly_sensitive == 'True']\n",
        "\n",
        "print(filter_df)\n",
        "\n",
        "\n",
        "#Sensitive_content = df[df['Possibly sensitive']== True]\n",
        "\n"
      ],
      "metadata": {
        "colab": {
          "base_uri": "https://localhost:8080/"
        },
        "id": "ultwc2NXo5h-",
        "outputId": "6a2e52c0-8052-4367-eeef-d4ef26101392"
      },
      "execution_count": 32,
      "outputs": [
        {
          "output_type": "stream",
          "name": "stdout",
          "text": [
            "                          Date         Username  \\\n",
            "0    2022-05-09 10:10:45+00:00        Saaondo01   \n",
            "1    2022-05-09 10:10:45+00:00         vampyumi   \n",
            "2    2022-05-09 10:10:45+00:00        mnrlmnstr   \n",
            "3    2022-05-09 10:10:45+00:00  Pizza_Hut_Japan   \n",
            "4    2022-05-09 10:10:43+00:00  SharleneMaySan1   \n",
            "...                        ...              ...   \n",
            "9995 2022-05-09 08:31:39+00:00     12EVXNEOGENE   \n",
            "9996 2022-05-09 08:31:38+00:00         NChaeng7   \n",
            "9997 2022-05-09 08:31:37+00:00         jaya8033   \n",
            "9998 2022-05-09 08:31:36+00:00  Pizza_Hut_Japan   \n",
            "9999 2022-05-09 08:31:33+00:00       drizzle_98   \n",
            "\n",
            "                                                Content Possibly_sensitive  \n",
            "0                   @obajemujnr_ On the AC. Weather hot              False  \n",
            "1              that’s hot صراحه https://t.co/7gVEAWu0ht              False  \n",
            "2     @omg_u_r_hot Я добре поспав, бо думав \"ну якщо...              False  \n",
            "3     @4Rnns\\nキャンペーンへのご参加ありがとうございます！\\n\\n結果は...残念\\nでも...              False  \n",
            "4                          @fantagiomusic_ SO HOT!!😍❤️😭              False  \n",
            "...                                                 ...                ...  \n",
            "9995      มาเล่นกันเร็ว\\nmt only *\\ncool / cute / hot :              False  \n",
            "9996                 So hot 🥵🥵🥵 https://t.co/NBPqn8wf46              False  \n",
            "9997  @kchartsmaster I’m listening to the hot trendi...              False  \n",
            "9998  @oD6riQrC9jiMYA5\\nキャンペーンへのご参加ありがとうございます！\\n\\n結果...              False  \n",
            "9999  @ALLFORJIMIN_KOR @BTS_twt I'm streaming the ho...              False  \n",
            "\n",
            "[10000 rows x 4 columns]\n",
            "Empty DataFrame\n",
            "Columns: [Date, Username, Content, Possibly_sensitive]\n",
            "Index: []\n"
          ]
        }
      ]
    }
  ]
}