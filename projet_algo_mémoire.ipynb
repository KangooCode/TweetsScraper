{
  "nbformat": 4,
  "nbformat_minor": 0,
  "metadata": {
    "colab": {
      "name": "projet algo mémoire.ipynb",
      "provenance": [],
      "collapsed_sections": [],
      "authorship_tag": "ABX9TyPGgXHxKBCQwAiNbjAjAIgf",
      "include_colab_link": true
    },
    "kernelspec": {
      "name": "python3",
      "display_name": "Python 3"
    },
    "language_info": {
      "name": "python"
    }
  },
  "cells": [
    {
      "cell_type": "markdown",
      "metadata": {
        "id": "view-in-github",
        "colab_type": "text"
      },
      "source": [
        "<a href=\"https://colab.research.google.com/github/KangooCode/TweetsScraper/blob/main/projet_algo_m%C3%A9moire.ipynb\" target=\"_parent\"><img src=\"https://colab.research.google.com/assets/colab-badge.svg\" alt=\"Open In Colab\"/></a>"
      ]
    },
    {
      "cell_type": "code",
      "source": [
        "!apt-get -q install python3.8"
      ],
      "metadata": {
        "colab": {
          "base_uri": "https://localhost:8080/"
        },
        "id": "YZdQkWVcpp7t",
        "outputId": "1191417e-29cd-4896-e354-0ef07233ca30"
      },
      "execution_count": 36,
      "outputs": [
        {
          "output_type": "stream",
          "name": "stdout",
          "text": [
            "Reading package lists...\n",
            "Building dependency tree...\n",
            "Reading state information...\n",
            "python3.8 is already the newest version (3.8.13-1+bionic1).\n",
            "0 upgraded, 0 newly installed, 0 to remove and 39 not upgraded.\n"
          ]
        }
      ]
    },
    {
      "cell_type": "code",
      "source": [
        "!pip3 install -q snscrape\n",
        "!pip3 install -q pandas"
      ],
      "metadata": {
        "id": "5szdatANmnn7"
      },
      "execution_count": 35,
      "outputs": []
    },
    {
      "cell_type": "code",
      "execution_count": 34,
      "metadata": {
        "id": "udqyLeHvFkAt",
        "colab": {
          "base_uri": "https://localhost:8080/"
        },
        "outputId": "c767146d-5651-4ec9-8add-8b8c739f359e"
      },
      "outputs": [
        {
          "output_type": "stream",
          "name": "stdout",
          "text": [
            "                         Date         Username  \\\n",
            "0   2022-04-11 20:03:32+00:00        Lynx_2003   \n",
            "1   2022-04-05 19:14:33+00:00         vicemage   \n",
            "2   2022-03-31 00:02:29+00:00  EXPOSECORRUPT11   \n",
            "3   2022-03-30 23:58:11+00:00    JordynDoodles   \n",
            "4   2022-03-30 22:12:38+00:00        B21938838   \n",
            "..                        ...              ...   \n",
            "195 2021-01-06 05:56:36+00:00    the_comidenan   \n",
            "196 2021-01-06 05:31:09+00:00   queernthensome   \n",
            "197 2021-01-06 03:46:27+00:00    ClayVengeance   \n",
            "198 2021-01-06 03:27:36+00:00         CHlLLDAD   \n",
            "199 2021-01-06 03:23:04+00:00  Benjamn17127812   \n",
            "\n",
            "                                               Content  \n",
            "0    @nekokwitty Wtf is wrong with this person….min...  \n",
            "1    @mny_mrk @Breaking911 Friendly reminder:\\n\\nSh...  \n",
            "2    @8BrianVogel4 @AngryFleas @account_walt @Femme...  \n",
            "3    @HKid156 there is a big difference between som...  \n",
            "4    @JackPosobiec Hunter learn Child sex porn from...  \n",
            "..                                                 ...  \n",
            "195  @Autumn_Constant Well Carson admitted to excha...  \n",
            "196  @klindamisin1 @miniborb He used his fame to so...  \n",
            "197  @shay_fales @lauraisconfused @TapLHarV @Slimec...  \n",
            "198  @DisgustingKale @charmance360 @goonkler @Cuzhe...  \n",
            "199  @NOR_Liv_Ros @voodoosev @GameCreepr @Krinios i...  \n",
            "\n",
            "[200 rows x 3 columns]\n"
          ]
        }
      ],
      "source": [
        "#Scraper de tweets\n",
        "\n",
        "from snscrape.modules import twitter as sntwitter\n",
        "import pandas as pd\n",
        "\n",
        "query = \"porn sex nude child\"\n",
        "tweets = []\n",
        "limit = 200\n",
        "\n",
        "for tweet in sntwitter.TwitterSearchScraper(query).get_items():\n",
        "\n",
        "  if len(tweets) == limit:\n",
        "    break\n",
        "  else:\n",
        "    tweets.append([tweet.date, tweet.username, tweet.content])\n",
        "\n",
        "df = pd.DataFrame(tweets, columns=['Date', 'Username', 'Content'])\n",
        "\n",
        "df.to_csv('/content/sample_data/test.csv')"
      ]
    }
  ]
}